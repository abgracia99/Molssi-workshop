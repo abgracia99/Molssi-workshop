{
 "cells": [
  {
   "cell_type": "code",
   "execution_count": 1,
   "metadata": {},
   "outputs": [],
   "source": [
    "import os \n",
    "import numpy "
   ]
  },
  {
   "cell_type": "code",
   "execution_count": 2,
   "metadata": {},
   "outputs": [
    {
     "data": {
      "text/plain": [
       "'C:\\\\Users\\\\ana_b\\\\Desktop\\\\data'"
      ]
     },
     "execution_count": 2,
     "metadata": {},
     "output_type": "execute_result"
    }
   ],
   "source": [
    "pwd"
   ]
  },
  {
   "cell_type": "code",
   "execution_count": 3,
   "metadata": {},
   "outputs": [
    {
     "name": "stdout",
     "output_type": "stream",
     "text": [
      "O to O : 0.0\n",
      "O to H1 : 0.9690005374652793\n",
      "O to H2 : 0.9690003348647513\n",
      "H1 to O : 0.9690005374652793\n",
      "H1 to H1 : 0.0\n",
      "H1 to H2 : 1.52693633514957\n",
      "H2 to O : 0.9690003348647513\n",
      "H2 to H1 : 1.52693633514957\n",
      "H2 to H2 : 0.0\n"
     ]
    }
   ],
   "source": [
    "file_location = os.path.join('water.xyz')\n",
    "xyz_file = numpy.genfromtxt(fname=file_location, skip_header=2, dtype='unicode')\n",
    "symbols = xyz_file[:,0]\n",
    "coordinates = xyz_file[:,1:]\n",
    "#print(symbols)\n",
    "#print(coordinates)\n",
    "coordinates = coordinates.astype(numpy.float)\n",
    "num_atoms = len(symbols)\n",
    "for num1 in range(0,num_atoms):\n",
    "    for num2 in range(0,num_atoms):\n",
    "        x_distance = coordinates[num1,0]-coordinates[num2,0]\n",
    "        y_distance = coordinates[num1,1]-coordinates[num2,1]\n",
    "        z_distance = coordinates[num1,2]-coordinates[num2,2]\n",
    "        distance_12 = numpy.sqrt(x_distance**2 + y_distance**2 + z_distance**2)\n",
    "        print(F'{symbols[num1]} to {symbols[num2]} : {distance_12}')"
   ]
  },
  {
   "cell_type": "code",
   "execution_count": 4,
   "metadata": {},
   "outputs": [
    {
     "name": "stdout",
     "output_type": "stream",
     "text": [
      "[[ 0.       -0.007156  0.965491]\n",
      " [-0.        0.001486 -0.003471]\n",
      " [ 0.        0.931026  1.207929]]\n"
     ]
    }
   ],
   "source": [
    "file_location = os.path.join('water.xyz')\n",
    "xyz_file = numpy.genfromtxt(fname=file_location, skip_header=2, dtype='unicode')\n",
    "symbols = xyz_file[:,0]\n",
    "coordinates = xyz_file[:,1:]\n",
    "#print(symbols)\n",
    "#print(coordinates)\n",
    "coordinates = coordinates.astype(numpy.float)\n",
    "print(coordinates)\n"
   ]
  },
  {
   "cell_type": "code",
   "execution_count": 5,
   "metadata": {},
   "outputs": [],
   "source": [
    "#def function_name(parameters):\n",
    "#    ***code goes***\n",
    "#    return value_to_return"
   ]
  },
  {
   "cell_type": "code",
   "execution_count": 6,
   "metadata": {},
   "outputs": [],
   "source": [
    "def calculate_distance(coords1, coords2):\n",
    "    \"\"\"\n",
    "    This function has two arguments, the coordinates of two atoms. It returns the distance between atoms.\n",
    "    \"\"\"\n",
    "    x_distance = coords1[0] - coords2[0]\n",
    "    y_distance = coords1[1] - coords2[1]\n",
    "    z_distance = coords1[2] - coords1[2]\n",
    "    distance_12 = numpy.sqrt(x_distance**2 + y_distance**2 + z_distance**2)\n",
    "    return distance_12"
   ]
  },
  {
   "cell_type": "code",
   "execution_count": 7,
   "metadata": {},
   "outputs": [],
   "source": [
    "def bond_check(distance,minimum=0,maximum=1.5):\n",
    "    \"\"\"\n",
    "    Checks a distance to see if its a bond\n",
    "    \"\"\"\n",
    "    if distance>minimum and distance<maximum:\n",
    "        return True\n",
    "    else:\n",
    "        return False "
   ]
  },
  {
   "cell_type": "code",
   "execution_count": 8,
   "metadata": {},
   "outputs": [],
   "source": [
    "#bond_check(-10)"
   ]
  },
  {
   "cell_type": "code",
   "execution_count": 10,
   "metadata": {},
   "outputs": [
    {
     "name": "stdout",
     "output_type": "stream",
     "text": [
      "H1 to O : 0.009\n",
      "H2 to O : 0.938\n",
      "H2 to H1 : 0.930\n"
     ]
    }
   ],
   "source": [
    "file_location = os.path.join('water.xyz')\n",
    "xyz_file = numpy.genfromtxt(fname=file_location, skip_header=2, dtype='unicode')\n",
    "symbols = xyz_file[:,0]\n",
    "coordinates = xyz_file[:,1:]\n",
    "#print(symboles)\n",
    "#print(coordinates)\n",
    "coordinates = coordinates.astype(numpy.float)\n",
    "num_atoms = len(symbols)\n",
    "for num1 in range(0,num_atoms):\n",
    "    for num2 in range(0,num_atoms):\n",
    "        if num1>num2:                # x_distance = coordinates[num1,0]-coordinates[num2,0]\n",
    "                # y_distance = coordinates[num1,1]-coordinates[num2,1]\n",
    "                # z_distance = coordinates[num1,2]-coordinates[num2,2]\n",
    "                #distance_12 = numpy.sqrt(x_distance**2 + y_distance**2 + z_distance**2)\n",
    "            distance_12 = calculate_distance(coordinates[num1], coordinates[num2])\n",
    "            if bond_check(distance_12, maximum=2.0) is True:\n",
    "                print(F'{symbols[num1]} to {symbols[num2]} : {distance_12:.3f}')\n"
   ]
  },
  {
   "cell_type": "code",
   "execution_count": null,
   "metadata": {},
   "outputs": [],
   "source": []
  }
 ],
 "metadata": {
  "kernelspec": {
   "display_name": "Python 3",
   "language": "python",
   "name": "python3"
  },
  "language_info": {
   "codemirror_mode": {
    "name": "ipython",
    "version": 3
   },
   "file_extension": ".py",
   "mimetype": "text/x-python",
   "name": "python",
   "nbconvert_exporter": "python",
   "pygments_lexer": "ipython3",
   "version": "3.7.3"
  }
 },
 "nbformat": 4,
 "nbformat_minor": 2
}
